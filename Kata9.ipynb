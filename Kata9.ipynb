{
 "cells": [
  {
   "cell_type": "markdown",
   "metadata": {},
   "source": [
    "# Ejercicio 1: Trabajar con argumentos en funciones"
   ]
  },
  {
   "cell_type": "code",
   "execution_count": 8,
   "metadata": {},
   "outputs": [],
   "source": [
    "def generando_reporte(principal_tanque, externo_tanque, hidrogeno_tanque):\n",
    "    total_promedio = (principal_tanque + externo_tanque + hidrogeno_tanque) / 3\n",
    "    return f\"\"\"Fuel Report:\n",
    "    Total Average: {total_average}%\n",
    "    Principal tanque: {principal_tanque}%\n",
    "    Externo tanque: {externo_tanque}%\n",
    "    Hidrogeno tanque: {hidrogeno_tanque}% \n",
    "    \"\"\""
   ]
  },
  {
   "cell_type": "code",
   "execution_count": 6,
   "metadata": {},
   "outputs": [
    {
     "name": "stdout",
     "output_type": "stream",
     "text": [
      "Fuel Report:\n",
      "    Total Average: 78.33333333333333%\n",
      "    Principal tanque: 80%\n",
      "    Externo tanque: 70%\n",
      "    Hidrogeno tanque: 85% \n",
      "    \n"
     ]
    }
   ],
   "source": [
    "print(generando_reporte(80, 70, 85))"
   ]
  },
  {
   "cell_type": "code",
   "execution_count": 10,
   "metadata": {},
   "outputs": [
    {
     "data": {
      "text/plain": [
       "82.0"
      ]
     },
     "execution_count": 10,
     "metadata": {},
     "output_type": "execute_result"
    }
   ],
   "source": [
    "def average(values):\n",
    "    total = sum(values)\n",
    "    number_of_items = len(values)\n",
    "    return total / number_of_items\n",
    "\n",
    "# Test the averaging function with a list of integers:\n",
    "average([80, 85, 81]) "
   ]
  },
  {
   "cell_type": "code",
   "execution_count": 11,
   "metadata": {},
   "outputs": [
    {
     "name": "stdout",
     "output_type": "stream",
     "text": [
      "Fuel Report:\n",
      "    Total Average: 78.0%\n",
      "    Principal tanque: 88%\n",
      "    Externo tanque: 76%\n",
      "    Hidrogeno tanque: 70% \n",
      "    \n"
     ]
    }
   ],
   "source": [
    "def generando_reporte(principal_tanque, externo_tanque, hidrogeno_tanque):\n",
    "    return f\"\"\"Fuel Report:\n",
    "    Total Average: {promedio([principal_tanque, externo_tanque, hidrogeno_tanque])}%\n",
    "    Principal tanque: {principal_tanque}%\n",
    "    Externo tanque: {externo_tanque}%\n",
    "    Hidrogeno tanque: {hidrogeno_tanque}% \n",
    "    \"\"\"\n",
    "\n",
    "print(generando_reporte(88, 76, 70))"
   ]
  },
  {
   "cell_type": "markdown",
   "metadata": {},
   "source": [
    "# Ejercicio 2 : Trabajar con argumentos de palabras clave en funciones"
   ]
  },
  {
   "cell_type": "code",
   "execution_count": 12,
   "metadata": {},
   "outputs": [
    {
     "name": "stdout",
     "output_type": "stream",
     "text": [
      "\n",
      "    Mision Moon\n",
      "    Total tiempo de viaje: 65 minutos\n",
      "    Combustible: 500000 galones\n",
      "    \n"
     ]
    }
   ],
   "source": [
    "def mision_reporte(pre_almuerzo, vuelo, destino, externo_tanque, principal_tanque):\n",
    "    return f\"\"\"\n",
    "    Mision {destino}\n",
    "    Total tiempo de viaje: {pre_almuerzo + vuelo} minutos\n",
    "    Combustible: {externo_tanque + principal_tanque} galones\n",
    "    \"\"\"\n",
    "\n",
    "print(mision_reporte(14, 51, \"Moon\", 200000, 300000))"
   ]
  },
  {
   "cell_type": "code",
   "execution_count": 16,
   "metadata": {},
   "outputs": [
    {
     "name": "stdout",
     "output_type": "stream",
     "text": [
      "\n",
      "    Mision Moon\n",
      "    Total tiempo de viaje: 76 minutos\n",
      "    Combustible: 500000\n",
      "    \n"
     ]
    }
   ],
   "source": [
    "def mision_reporte(destino, *minutos, **depositos_de_combustible):\n",
    "    return f\"\"\"\n",
    "    Mision {destino}\n",
    "    Total tiempo de viaje: {sum(minutos)} minutos\n",
    "    Combustible: {sum(depositos_de_combustible.values())}\n",
    "    \"\"\"\n",
    "\n",
    "print(mision_reporte(\"Moon\", 10, 15, 51, main=300000, external=200000))"
   ]
  },
  {
   "cell_type": "code",
   "execution_count": 19,
   "metadata": {},
   "outputs": [
    {
     "name": "stdout",
     "output_type": "stream",
     "text": [
      "\n",
      "    Mision Moon\n",
      "    Total tiempo de viaje: 74 minutos\n",
      "    Combustible: 500000\n",
      "    main tanque --> 300000 galones left\n",
      "external tanque --> 200000 galones left\n",
      "\n"
     ]
    }
   ],
   "source": [
    "def mision_reporte(destino, *minutos, **depositos_de_combustible):\n",
    "    principal_reporte = f\"\"\"\n",
    "    Mision {destino}\n",
    "    Total tiempo de viaje: {sum(minutos)} minutos\n",
    "    Combustible: {sum(depositos_de_combustible.values())}\n",
    "    \"\"\"\n",
    "    for tanque_nombre, galones in depositos_de_combustible.items():\n",
    "        principal_reporte += f\"{tanque_nombre} tanque --> {galones} galones left\\n\"\n",
    "    return principal_reporte\n",
    "\n",
    "print(mision_reporte(\"Moon\", 8, 11, 55, main=300000, external=200000))\n"
   ]
  }
 ],
 "metadata": {
  "interpreter": {
   "hash": "43a6b6b61a17a1dd6a65bcbfe5f43a6c05f6550ff2711588be60ee87677c3861"
  },
  "kernelspec": {
   "display_name": "Python 3.9.0 64-bit",
   "language": "python",
   "name": "python3"
  },
  "language_info": {
   "codemirror_mode": {
    "name": "ipython",
    "version": 3
   },
   "file_extension": ".py",
   "mimetype": "text/x-python",
   "name": "python",
   "nbconvert_exporter": "python",
   "pygments_lexer": "ipython3",
   "version": "3.9.0"
  },
  "orig_nbformat": 4
 },
 "nbformat": 4,
 "nbformat_minor": 2
}
